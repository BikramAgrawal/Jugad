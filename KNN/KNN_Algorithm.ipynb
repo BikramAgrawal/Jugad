{
 "cells": [
  {
   "cell_type": "code",
   "execution_count": null,
   "id": "a1809f8c-1785-4dd3-ae1a-afff176a9718",
   "metadata": {},
   "outputs": [
    {
     "name": "stdout",
     "output_type": "stream",
     "text": [
      "Training labels: [2 1 2 2 2 2 1 2 1 2 2 2 0 1 2 1 1 1 1 1 0 1 2 1 0 1 0 1 1 1 0 1 0 1 0 2 2\n",
      " 2 0 2 1 2 0 0 1 0 2 2 2 2 0 1 0 1 1 1 2 0 1 0 1 2 1 0 0 0 2 2 0 1 1 1 0 0\n",
      " 0 0 2 0 2 0 0 2 2 2 0 2 1 1 2 1 1 1 1 2 0 1 0 1 0 0 0 2 1 0 0 1 2 2 2 2 0\n",
      " 1 2 0 2 1 2 2 0 0]\n",
      "TARGET: setosa, PREDICTED: setosa\n",
      "TARGET: setosa, PREDICTED: setosa\n",
      "TARGET: setosa, PREDICTED: setosa\n",
      "TARGET: virginica, PREDICTED: virginica\n",
      "TARGET: versicolor, PREDICTED: versicolor\n",
      "TARGET: versicolor, PREDICTED: versicolor\n",
      "TARGET: virginica, PREDICTED: virginica\n",
      "TARGET: virginica, PREDICTED: virginica\n",
      "TARGET: versicolor, PREDICTED: versicolor\n",
      "TARGET: virginica, PREDICTED: virginica\n",
      "TARGET: setosa, PREDICTED: setosa\n",
      "TARGET: virginica, PREDICTED: virginica\n",
      "TARGET: versicolor, PREDICTED: versicolor\n",
      "TARGET: versicolor, PREDICTED: versicolor\n",
      "TARGET: setosa, PREDICTED: setosa\n",
      "TARGET: versicolor, PREDICTED: versicolor\n",
      "TARGET: setosa, PREDICTED: setosa\n",
      "TARGET: setosa, PREDICTED: setosa\n",
      "TARGET: setosa, PREDICTED: setosa\n",
      "TARGET: versicolor, PREDICTED: virginica\n",
      "TARGET: virginica, PREDICTED: virginica\n",
      "TARGET: setosa, PREDICTED: setosa\n",
      "TARGET: setosa, PREDICTED: setosa\n",
      "TARGET: setosa, PREDICTED: setosa\n",
      "TARGET: virginica, PREDICTED: virginica\n",
      "TARGET: virginica, PREDICTED: virginica\n",
      "TARGET: versicolor, PREDICTED: virginica\n",
      "TARGET: virginica, PREDICTED: virginica\n",
      "TARGET: setosa, PREDICTED: setosa\n",
      "TARGET: versicolor, PREDICTED: versicolor\n",
      "Model Accuracy: 0.9333333333333333\n"
     ]
    }
   ],
   "source": [
    "from sklearn.datasets import load_iris\n",
    "from sklearn.neighbors import KNeighborsClassifier\n",
    "from sklearn.model_selection import train_test_split\n",
    "import numpy as np\n",
    "\n",
    "# Load the Iris dataset\n",
    "dataset = load_iris()\n",
    "\n",
    "# Split the dataset into training and test sets\n",
    "X_train, X_test, y_train, y_test = train_test_split(dataset.data, dataset.target, test_size=0.2, random_state=30)\n",
    "print(\"Training labels:\", y_train)\n",
    "\n",
    "# Initialize and fit the KNN classifier\n",
    "kn = KNeighborsClassifier(n_neighbors=3)\n",
    "kn.fit(X_train, y_train)\n",
    "\n",
    "# Make predictions on the test set\n",
    "for i in range(len(X_test)):\n",
    "    x = X_test[i]\n",
    "    x_new = np.array([x])  # Convert to a 2D array for prediction\n",
    "    prediction = kn.predict(x_new)[0]  # Get the first (and only) element of the prediction array\n",
    "    \n",
    "    # Print the actual and predicted classes\n",
    "    print(f\"TARGET: {dataset.target_names[y_test[i]]}, PREDICTED: {dataset.target_names[prediction]}\")\n",
    "\n",
    "# Evaluate the model's accuracy on the test set\n",
    "accuracy = kn.score(X_test, y_test)\n",
    "print(f\"Model Accuracy: {accuracy}\")\n"
   ]
  },
  {
   "cell_type": "code",
   "execution_count": null,
   "id": "e3b5a8a4-a50b-4f70-8ecb-26619a63fb6d",
   "metadata": {},
   "outputs": [],
   "source": []
  }
 ],
 "metadata": {
  "kernelspec": {
   "display_name": "base",
   "language": "python",
   "name": "python3"
  },
  "language_info": {
   "codemirror_mode": {
    "name": "ipython",
    "version": 3
   },
   "file_extension": ".py",
   "mimetype": "text/x-python",
   "name": "python",
   "nbconvert_exporter": "python",
   "pygments_lexer": "ipython3",
   "version": "3.11.7"
  }
 },
 "nbformat": 4,
 "nbformat_minor": 5
}
